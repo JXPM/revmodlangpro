{
 "cells": [
  {
   "cell_type": "code",
   "execution_count": 1,
   "metadata": {},
   "outputs": [],
   "source": [
    "import spacy\n"
   ]
  },
  {
   "cell_type": "code",
   "execution_count": 9,
   "metadata": {},
   "outputs": [
    {
     "name": "stdout",
     "output_type": "stream",
     "text": [
      "Defaulting to user installation because normal site-packages is not writeable\n",
      "Collecting en-core-web-sm==3.8.0\n",
      "  Downloading https://github.com/explosion/spacy-models/releases/download/en_core_web_sm-3.8.0/en_core_web_sm-3.8.0-py3-none-any.whl (12.8 MB)\n",
      "\u001b[2K     \u001b[38;2;114;156;31m━━━━━━━━━━━━━━━━━━━━━━━━━━━━━━━━━━━━━━━\u001b[0m \u001b[32m12.8/12.8 MB\u001b[0m \u001b[31m621.0 kB/s\u001b[0m eta \u001b[36m0:00:00\u001b[0mm eta \u001b[36m0:00:01\u001b[0m[36m0:00:01\u001b[0m\n",
      "\u001b[?25hInstalling collected packages: en-core-web-sm\n",
      "Successfully installed en-core-web-sm-3.8.0\n",
      "\u001b[38;5;2m✔ Download and installation successful\u001b[0m\n",
      "You can now load the package via spacy.load('en_core_web_sm')\n"
     ]
    }
   ],
   "source": [
    "!python3 -m spacy download en_core_web_sm"
   ]
  },
  {
   "cell_type": "code",
   "execution_count": 10,
   "metadata": {},
   "outputs": [],
   "source": [
    "nlp = spacy.load(\"en_core_web_sm\")"
   ]
  },
  {
   "cell_type": "code",
   "execution_count": 11,
   "metadata": {},
   "outputs": [
    {
     "name": "stdout",
     "output_type": "stream",
     "text": [
      "Token: The, Lemma: the\n",
      "Token: cats, Lemma: cat\n",
      "Token: are, Lemma: be\n",
      "Token: playing, Lemma: play\n",
      "Token: with, Lemma: with\n",
      "Token: the, Lemma: the\n",
      "Token: mice, Lemma: mouse\n",
      "Token: ., Lemma: .\n"
     ]
    }
   ],
   "source": [
    "def display_lemmatization(text):\n",
    "    doc = nlp(text)\n",
    "    for token in doc:\n",
    "        print(f\"Token: {token.text}, Lemma: {token.lemma_}\")\n",
    "\n",
    "# Example usage\n",
    "text = \"The cats are playing with the mice.\"\n",
    "display_lemmatization(text)"
   ]
  },
  {
   "cell_type": "code",
   "execution_count": 12,
   "metadata": {},
   "outputs": [
    {
     "name": "stdout",
     "output_type": "stream",
     "text": [
      "Token: I, Lemma: I\n",
      "Token: m, Lemma: m\n",
      "Token: angry, Lemma: angry\n",
      "Token: and, Lemma: and\n",
      "Token: i, Lemma: I\n",
      "Token: want, Lemma: want\n",
      "Token: play, Lemma: play\n",
      "Token: foot, Lemma: foot\n"
     ]
    }
   ],
   "source": [
    "def display_lemmatization(text):\n",
    "    doc = nlp(text)\n",
    "    for token in doc:\n",
    "        print(f\"Token: {token.text}, Lemma: {token.lemma_}\")\n",
    "# AJOUTER UN INPOUT POUR L'UTILISATEUR\n",
    "text = input(\"Enter a sentence: \")\n",
    "display_lemmatization(text)"
   ]
  },
  {
   "cell_type": "code",
   "execution_count": 19,
   "metadata": {},
   "outputs": [
    {
     "name": "stdout",
     "output_type": "stream",
     "text": [
      "        Token       Lemma    POS\n",
      "0         The         the    DET\n",
      "1        cats         cat   NOUN\n",
      "2  Throughout  throughout    ADP\n",
      "3         the         the    DET\n",
      "4         day         day   NOUN\n",
      "5           !           !  PUNCT\n"
     ]
    }
   ],
   "source": [
    "import pandas as pd\n",
    "\n",
    "def lemmatize_dataframe(text):\n",
    "    doc = nlp(text)\n",
    "    data = {\n",
    "        \"Token\": [token.text for token in doc],\n",
    "        \"Lemma\": [token.lemma_ for token in doc],\n",
    "        \"POS\": [token.pos_ for token in doc],\n",
    "}\n",
    "   \n",
    "    return pd.DataFrame(data) #return data\n",
    "\n",
    "# Example usage\n",
    "text = \"The cats Throughout the day!\"\n",
    "df = lemmatize_dataframe(text)\n",
    "print(df)"
   ]
  },
  {
   "cell_type": "code",
   "execution_count": null,
   "metadata": {},
   "outputs": [],
   "source": []
  }
 ],
 "metadata": {
  "kernelspec": {
   "display_name": "Python 3",
   "language": "python",
   "name": "python3"
  },
  "language_info": {
   "codemirror_mode": {
    "name": "ipython",
    "version": 3
   },
   "file_extension": ".py",
   "mimetype": "text/x-python",
   "name": "python",
   "nbconvert_exporter": "python",
   "pygments_lexer": "ipython3",
   "version": "3.10.12"
  }
 },
 "nbformat": 4,
 "nbformat_minor": 2
}
