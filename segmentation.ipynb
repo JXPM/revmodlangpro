{
 "cells": [
  {
   "cell_type": "code",
   "execution_count": 2,
   "metadata": {},
   "outputs": [
    {
     "name": "stdout",
     "output_type": "stream",
     "text": [
      "Defaulting to user installation because normal site-packages is not writeable\n",
      "Collecting fr-core-news-sm==3.8.0\n",
      "  Downloading https://github.com/explosion/spacy-models/releases/download/fr_core_news_sm-3.8.0/fr_core_news_sm-3.8.0-py3-none-any.whl (16.3 MB)\n",
      "\u001b[2K     \u001b[38;2;114;156;31m━━━━━━━━━━━━━━━━━━━━━━━━━━━━━━━━━━━━━━━━\u001b[0m \u001b[32m16.3/16.3 MB\u001b[0m \u001b[31m6.1 MB/s\u001b[0m eta \u001b[36m0:00:00\u001b[0mm eta \u001b[36m0:00:01\u001b[0m[36m0:00:01\u001b[0m\n",
      "\u001b[?25hInstalling collected packages: fr-core-news-sm\n",
      "Successfully installed fr-core-news-sm-3.8.0\n",
      "\u001b[38;5;2m✔ Download and installation successful\u001b[0m\n",
      "You can now load the package via spacy.load('fr_core_news_sm')\n",
      "zsh:1: command not found: python\n"
     ]
    }
   ],
   "source": [
    "!python3 -m spacy download fr_core_news_sm"
   ]
  },
  {
   "cell_type": "code",
   "execution_count": 10,
   "metadata": {},
   "outputs": [
    {
     "name": "stderr",
     "output_type": "stream",
     "text": [
      "[nltk_data] Downloading package punkt to /home/johan/nltk_data...\n",
      "[nltk_data]   Package punkt is already up-to-date!\n"
     ]
    },
    {
     "data": {
      "text/plain": [
       "True"
      ]
     },
     "execution_count": 10,
     "metadata": {},
     "output_type": "execute_result"
    }
   ],
   "source": [
    "import nltk\n",
    "from nltk.tokenize import sent_tokenize, word_tokenize\n",
    "import spacy\n",
    "nltk.download('punkt')"
   ]
  },
  {
   "cell_type": "code",
   "execution_count": 18,
   "metadata": {},
   "outputs": [],
   "source": [
    "chat = \"\"\"\"\"\n",
    "Je suis un étudiant en informatique et je m'intéresse à l'intelligence artificielle. J'ai récemment commencé à apprendre le traitement du langage naturel et j'aimerais en savoir plus sur les modèles de langage. Pourriez-vous me donner un aperçu des modèles de langage et de leur fonctionnement ? Je suis particulièrement intéressé par les applications pratiques de ces modèles dans le domaine de l'IA.\n",
    "\"\"\"\"\""
   ]
  },
  {
   "cell_type": "code",
   "execution_count": 12,
   "metadata": {},
   "outputs": [
    {
     "name": "stderr",
     "output_type": "stream",
     "text": [
      "[nltk_data] Downloading package stopwords to /home/johan/nltk_data...\n",
      "[nltk_data]   Package stopwords is already up-to-date!\n",
      "[nltk_data] Downloading package punkt to /home/johan/nltk_data...\n",
      "[nltk_data]   Package punkt is already up-to-date!\n",
      "[nltk_data] Downloading package punkt_tab to /home/johan/nltk_data...\n",
      "[nltk_data]   Package punkt_tab is already up-to-date!\n"
     ]
    },
    {
     "data": {
      "text/plain": [
       "True"
      ]
     },
     "execution_count": 12,
     "metadata": {},
     "output_type": "execute_result"
    }
   ],
   "source": [
    "nltk.download('stopwords')\n",
    "from nltk.corpus import stopwords\n",
    "nltk.download('punkt')\n",
    "nltk.download('punkt_tab')"
   ]
  },
  {
   "cell_type": "code",
   "execution_count": 15,
   "metadata": {},
   "outputs": [
    {
     "name": "stdout",
     "output_type": "stream",
     "text": [
      "\n",
      "=== Segmentation avec Nltk ===\n",
      "Phrase 1: \"\"\n",
      "Je suis un étudiant en informatique et je m'intéresse à l'intelligence artificielle.\n",
      "Phrase 2: J'ai récemment commencé à apprendre le traitement du langage naturel et j'aimerais en savoir plus sur les modèles de langage.\n",
      "Phrase 3: Pourriez-vous me donner un aperçu des modèles de langage et de leur fonctionnement ?\n",
      "Phrase 4: Je suis particulièrement intéressé par les applications pratiques de ces modèles dans le domaine de l'IA.\n"
     ]
    }
   ],
   "source": [
    "print(\"\\n=== Segmentation avec Nltk ===\")\n",
    "# Segmentation de phrases\n",
    "sentences = sent_tokenize(chat, language='french')\n",
    "for idx, sentence in enumerate(sentences, 1):\n",
    "    print(f\"Phrase {idx}: {sentence}\")"
   ]
  },
  {
   "cell_type": "code",
   "execution_count": 16,
   "metadata": {},
   "outputs": [
    {
     "name": "stdout",
     "output_type": "stream",
     "text": [
      "\n",
      "=== Segmentation de mots avec Nltk ===\n",
      "Mots : ['``', '``', 'Je', 'suis', 'un', 'étudiant', 'en', 'informatique', 'et', 'je', \"m'intéresse\", 'à', \"l'intelligence\", 'artificielle', '.', \"J'ai\", 'récemment', 'commencé', 'à', 'apprendre', 'le', 'traitement', 'du', 'langage', 'naturel', 'et', \"j'aimerais\", 'en', 'savoir', 'plus', 'sur', 'les', 'modèles', 'de', 'langage', '.', 'Pourriez-vous', 'me', 'donner', 'un', 'aperçu', 'des', 'modèles', 'de', 'langage', 'et', 'de', 'leur', 'fonctionnement', '?', 'Je', 'suis', 'particulièrement', 'intéressé', 'par', 'les', 'applications', 'pratiques', 'de', 'ces', 'modèles', 'dans', 'le', 'domaine', 'de', \"l'IA\", '.']\n"
     ]
    }
   ],
   "source": [
    "# Segmentation de mots\n",
    "print(\"\\n=== Segmentation de mots avec Nltk ===\")\n",
    "words = word_tokenize(chat, language='french')\n",
    "print(\"Mots :\", words)"
   ]
  },
  {
   "cell_type": "code",
   "execution_count": 19,
   "metadata": {},
   "outputs": [
    {
     "name": "stdout",
     "output_type": "stream",
     "text": [
      "\n",
      "=== Segmentation avec spaCy ===\n",
      "chat NOUN ROOT\n"
     ]
    }
   ],
   "source": [
    "print(\"\\n=== Segmentation avec spaCy ===\")\n",
    "import spacy\n",
    "from spacy.lang.fr import French\n",
    "nlp = spacy.load(\"fr_core_news_sm\")\n",
    "doc = nlp(\"chat\")\n",
    "for token in doc:\n",
    "    print(token.text, token.pos_, token.dep_)"
   ]
  },
  {
   "cell_type": "code",
   "execution_count": null,
   "metadata": {},
   "outputs": [],
   "source": []
  }
 ],
 "metadata": {
  "kernelspec": {
   "display_name": "Python 3",
   "language": "python",
   "name": "python3"
  },
  "language_info": {
   "codemirror_mode": {
    "name": "ipython",
    "version": 3
   },
   "file_extension": ".py",
   "mimetype": "text/x-python",
   "name": "python",
   "nbconvert_exporter": "python",
   "pygments_lexer": "ipython3",
   "version": "3.10.12"
  }
 },
 "nbformat": 4,
 "nbformat_minor": 2
}
